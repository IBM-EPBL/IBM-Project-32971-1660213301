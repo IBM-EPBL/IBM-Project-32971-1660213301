{
  "metadata": {
    "colab": {
      "provenance": []
    },
    "kernelspec": {
      "name": "python",
      "display_name": "Python (Pyodide)",
      "language": "python"
    },
    "language_info": {
      "codemirror_mode": {
        "name": "python",
        "version": 3
      },
      "file_extension": ".py",
      "mimetype": "text/x-python",
      "name": "python",
      "nbconvert_exporter": "python",
      "pygments_lexer": "ipython3",
      "version": "3.8"
    }
  },
  "nbformat_minor": 4,
  "nbformat": 4,
  "cells": [
    {
      "cell_type": "markdown",
      "source": "## Exercises\n\nAnswer the questions or complete the tasks outlined in bold below, use the specific method described if applicable.",
      "metadata": {
        "id": "fwU2iooz85jt"
      }
    },
    {
      "cell_type": "markdown",
      "source": "** What is 7 to the power of 4?**",
      "metadata": {
        "id": "SzBQQ_ml85j1"
      }
    },
    {
      "cell_type": "code",
      "source": "a=7\nb=4\nprint(a**b)",
      "metadata": {
        "id": "UhvE4PBC85j3",
        "outputId": "a05565aa-db43-4716-e87d-41c5c8a6f95e",
        "trusted": true
      },
      "execution_count": 1,
      "outputs": [
        {
          "name": "stdout",
          "text": "2401\n",
          "output_type": "stream"
        }
      ]
    },
    {
      "cell_type": "markdown",
      "source": "** Split this string:**\n\n    s = \"Hi there Sam!\"\n    \n**into a list. **",
      "metadata": {
        "id": "ds8G9S8j85j6"
      }
    },
    {
      "cell_type": "code",
      "source": "s=\"Hi there sam!\"\nprint(s.split())",
      "metadata": {
        "id": "GD_Tls3H85j7",
        "tags": [],
        "trusted": true
      },
      "execution_count": 2,
      "outputs": [
        {
          "name": "stdout",
          "text": "['Hi', 'there', 'sam!']\n",
          "output_type": "stream"
        }
      ]
    },
    {
      "cell_type": "markdown",
      "source": "** Given the variables:**\n\n    planet = \"Earth\"\n    diameter = 12742\n\n** Use .format() to print the following string: **\n\n    The diameter of Earth is 12742 kilometers.",
      "metadata": {
        "id": "_bBNOu-785j9"
      }
    },
    {
      "cell_type": "code",
      "source": "planet=\"Earth\"\ndiameter=12742\nprint(\"The diameter of Earth is {Earth} kilometers.\".format(Earth=12742))",
      "metadata": {
        "id": "2TrzmDcS85j-",
        "tags": [],
        "trusted": true
      },
      "execution_count": 4,
      "outputs": [
        {
          "name": "stdout",
          "text": "The diameter of Earth is 12742 kilometers.\n",
          "output_type": "stream"
        }
      ]
    },
    {
      "cell_type": "markdown",
      "source": "** Given this nested list, use indexing to grab the word \"hello\" **",
      "metadata": {
        "id": "QAKtN7Hh85kB"
      }
    },
    {
      "cell_type": "code",
      "source": "lst = [1,2,[3,4],[5,[100,200,['hello']],23,11],1,7]\nprint(lst[3][1][2][0])",
      "metadata": {
        "id": "-7dzQDyK85kD",
        "tags": [],
        "trusted": true
      },
      "execution_count": 6,
      "outputs": [
        {
          "name": "stdout",
          "text": "hello\n",
          "output_type": "stream"
        }
      ]
    },
    {
      "cell_type": "markdown",
      "source": "** Given this nest dictionary grab the word \"hello\". Be prepared, this will be annoying/tricky **",
      "metadata": {
        "id": "9Ma7M4a185kF"
      }
    },
    {
      "cell_type": "code",
      "source": "d = {'k1':[1,2,3,{'tricky':['oh','man','inception',{'target':[1,2,3,'hello']}]}]}\nprint(d['k1'][3]['tricky'][3]['target'][3])\n",
      "metadata": {
        "id": "vrYAxSYN85kG",
        "trusted": true
      },
      "execution_count": 7,
      "outputs": [
        {
          "name": "stdout",
          "text": "hello\n",
          "output_type": "stream"
        }
      ]
    },
    {
      "cell_type": "markdown",
      "source": "** What is the main difference between a tuple and a list? **",
      "metadata": {
        "id": "FInV_FKB85kI"
      }
    },
    {
      "cell_type": "code",
      "source": "print(\"The main difference between tuple and list are list is mutable where as tuple is immutable\")",
      "metadata": {
        "id": "_VBWf00q85kJ",
        "tags": [],
        "trusted": true
      },
      "execution_count": 34,
      "outputs": [
        {
          "name": "stdout",
          "text": "The main difference between tuple and list are list is mutable where as tuple is immutable\n",
          "output_type": "stream"
        }
      ]
    },
    {
      "cell_type": "markdown",
      "source": "** Create a function that grabs the email website domain from a string in the form: **\n\n    user@domain.com\n    \n**So for example, passing \"user@domain.com\" would return: domain.com**",
      "metadata": {
        "id": "zP-j0HZj85kK"
      }
    },
    {
      "cell_type": "code",
      "source": "string = \"user@domain.com\"\n\ndef grabDomain(string):\n    myString = \"\"\n    found = False\n    for i in string:\n        if(found):\n            myString = myString + i\n            \n        if(i == \"@\"):\n            \n            found = True\n            \n    return myString\n\nprint(grabDomain(string))\n",
      "metadata": {
        "id": "unvEAwjk85kL",
        "tags": [],
        "trusted": true
      },
      "execution_count": 8,
      "outputs": [
        {
          "name": "stdout",
          "text": "domain.com\n",
          "output_type": "stream"
        }
      ]
    },
    {
      "cell_type": "markdown",
      "source": "** Create a basic function that returns True if the word 'dog' is contained in the input string. Don't worry about edge cases like a punctuation being attached to the word dog, but do account for capitalization. **",
      "metadata": {
        "id": "gYydb-y085kM"
      }
    },
    {
      "cell_type": "code",
      "source": "def countFound(string , searchString):\n    \n    count = 0\n    \n    for i in range(len(string)):\n        if(string[i:i+len(searchString)] == searchString):\n            count = count + 1\n            \n    return count\n\n\n\ndef foundTrueFalse(string , searchString):\n    \n    count = countFound(string , searchString)\n    \n    if(count > 0):\n        return True\n    else:\n        return False\n\n\nprint(foundTrueFalse(\"cksdog nkjsbak dog\" , \"dog\"))\n",
      "metadata": {
        "id": "Q4ldLGV785kM",
        "tags": [],
        "trusted": true
      },
      "execution_count": 13,
      "outputs": [
        {
          "name": "stdout",
          "text": "True\n",
          "output_type": "stream"
        }
      ]
    },
    {
      "cell_type": "markdown",
      "source": "** Create a function that counts the number of times the word \"dog\" occurs in a string. Again ignore edge cases. **",
      "metadata": {
        "id": "AyHQFALC85kO"
      }
    },
    {
      "cell_type": "code",
      "source": "def countFound(string , searchString):\n    \n    count = 0\n    \n    for i in range(len(string)):\n        if(string[i:i+len(searchString)] == searchString):\n            count = count + 1\n            \n    return count\n\n\nprint(countFound(\"cksdog nkjsbak dog\" , \"dog\"))\n",
      "metadata": {
        "id": "6hdc169585kO",
        "trusted": true
      },
      "execution_count": 14,
      "outputs": [
        {
          "name": "stdout",
          "text": "2\n",
          "output_type": "stream"
        }
      ]
    },
    {
      "cell_type": "markdown",
      "source": "### Problem\n**You are driving a little too fast, and a police officer stops you. Write a function\n  to return one of 3 possible results: \"No ticket\", \"Small ticket\", or \"Big Ticket\". \n  If your speed is 60 or less, the result is \"No Ticket\". If speed is between 61 \n  and 80 inclusive, the result is \"Small Ticket\". If speed is 81 or more, the result is \"Big    Ticket\". Unless it is your birthday (encoded as a boolean value in the parameters of the function) -- on your birthday, your speed can be 5 higher in all \n  cases. **",
      "metadata": {
        "id": "3n7jJt4k85kP"
      }
    },
    {
      "cell_type": "code",
      "source": "def caught_speeding(speed, is_birthday):\n    \n    if is_birthday:\n        speeding = speed - 5\n    else:\n        speeding = speed\n    \n    if speeding > 80:\n        return 'Big Ticket'\n    elif speeding > 60:\n        return 'Small Ticket'\n    else:\n        return 'No Ticket'\nprint(caught_speeding(60,True))\nprint(caught_speeding(80,False))\nprint(caught_speeding(50,True))",
      "metadata": {
        "id": "nvXMkvWk85kQ",
        "tags": [],
        "trusted": true
      },
      "execution_count": 21,
      "outputs": [
        {
          "name": "stdout",
          "text": "No Ticket\nSmall Ticket\nNo Ticket\n",
          "output_type": "stream"
        }
      ]
    },
    {
      "cell_type": "markdown",
      "source": "Create an employee list with basic salary values(at least 5 values for 5 employees)  and using a for loop retreive each employee salary and calculate total salary expenditure. ",
      "metadata": {
        "id": "Tie4rC7_kAOC"
      }
    },
    {
      "cell_type": "code",
      "source": "e=[500,400,600,750,200]\nsum=0\nfor i in range(len(e)):\n    sum+=e[i]\n    emp_id=0\n    if(i==emp_id):\n        print(e[i])\nprint(sum)",
      "metadata": {
        "id": "R5-CdXSKjacN",
        "trusted": true
      },
      "execution_count": 30,
      "outputs": [
        {
          "name": "stdout",
          "text": "500\n2450\n",
          "output_type": "stream"
        }
      ]
    },
    {
      "cell_type": "markdown",
      "source": "Create two dictionaries in Python:\n\nFirst one to contain fields as Empid,  Empname,  Basicpay\n\nSecond dictionary to contain fields as DeptName,  DeptId.\n\nCombine both dictionaries. ",
      "metadata": {
        "id": "-L1aiFqRkF5s"
      }
    },
    {
      "cell_type": "code",
      "source": "def merge(dict1,dict2):\n    result=dict1 | dict2\n    return result \ndict1={\"Empid\":101,\"Empname\":\"Alice\",\"Basicpay\":1250}\ndict2={\"DeptName\":\"CSE\",\"DeptId\":11}\nprint(merge(dict1,dict2))       ",
      "metadata": {
        "id": "8ugVoEe0kOsk",
        "trusted": true
      },
      "execution_count": 33,
      "outputs": [
        {
          "name": "stdout",
          "text": "{'Empid': 101, 'Empname': 'Alice', 'Basicpay': 1250, 'DeptName': 'CSE', 'DeptId': 11}\n",
          "output_type": "stream"
        }
      ]
    }
  ]
}